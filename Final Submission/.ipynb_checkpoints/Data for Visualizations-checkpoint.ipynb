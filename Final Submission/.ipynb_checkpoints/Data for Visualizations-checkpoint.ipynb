{
 "cells": [
  {
   "cell_type": "code",
   "execution_count": 1,
   "id": "b8356a23",
   "metadata": {},
   "outputs": [],
   "source": [
    "import pandas as pd"
   ]
  },
  {
   "cell_type": "code",
   "execution_count": 4,
   "id": "7260b7ee",
   "metadata": {},
   "outputs": [
    {
     "name": "stdout",
     "output_type": "stream",
     "text": [
      "<class 'pandas.core.frame.DataFrame'>\n",
      "RangeIndex: 1000 entries, 0 to 999\n",
      "Data columns (total 6 columns):\n",
      " #   Column        Non-Null Count  Dtype  \n",
      "---  ------        --------------  -----  \n",
      " 0   year          1000 non-null   int64  \n",
      " 1   district      1000 non-null   int64  \n",
      " 2   latitude      1000 non-null   float64\n",
      " 3   longitude     1000 non-null   float64\n",
      " 4   primary_type  1000 non-null   object \n",
      " 5   crime_count   1000 non-null   int64  \n",
      "dtypes: float64(2), int64(3), object(1)\n",
      "memory usage: 47.0+ KB\n"
     ]
    }
   ],
   "source": [
    "df = pd.read_json(\"crime_location.json\")\n",
    "df.info()"
   ]
  },
  {
   "cell_type": "code",
   "execution_count": 22,
   "id": "2785bcc1",
   "metadata": {},
   "outputs": [
    {
     "data": {
      "text/html": [
       "<div>\n",
       "<style scoped>\n",
       "    .dataframe tbody tr th:only-of-type {\n",
       "        vertical-align: middle;\n",
       "    }\n",
       "\n",
       "    .dataframe tbody tr th {\n",
       "        vertical-align: top;\n",
       "    }\n",
       "\n",
       "    .dataframe thead th {\n",
       "        text-align: right;\n",
       "    }\n",
       "</style>\n",
       "<table border=\"1\" class=\"dataframe\">\n",
       "  <thead>\n",
       "    <tr style=\"text-align: right;\">\n",
       "      <th></th>\n",
       "      <th>year</th>\n",
       "      <th>district</th>\n",
       "      <th>latitude</th>\n",
       "      <th>longitude</th>\n",
       "      <th>primary_type</th>\n",
       "      <th>crime_count</th>\n",
       "    </tr>\n",
       "  </thead>\n",
       "  <tbody>\n",
       "    <tr>\n",
       "      <th>0</th>\n",
       "      <td>2020</td>\n",
       "      <td>17</td>\n",
       "      <td>41.946319</td>\n",
       "      <td>-87.731580</td>\n",
       "      <td>BATTERY</td>\n",
       "      <td>1</td>\n",
       "    </tr>\n",
       "    <tr>\n",
       "      <th>1</th>\n",
       "      <td>2020</td>\n",
       "      <td>10</td>\n",
       "      <td>41.837346</td>\n",
       "      <td>-87.698698</td>\n",
       "      <td>ASSAULT</td>\n",
       "      <td>1</td>\n",
       "    </tr>\n",
       "    <tr>\n",
       "      <th>2</th>\n",
       "      <td>2020</td>\n",
       "      <td>18</td>\n",
       "      <td>41.898255</td>\n",
       "      <td>-87.631288</td>\n",
       "      <td>ROBBERY</td>\n",
       "      <td>1</td>\n",
       "    </tr>\n",
       "    <tr>\n",
       "      <th>3</th>\n",
       "      <td>2020</td>\n",
       "      <td>3</td>\n",
       "      <td>41.783209</td>\n",
       "      <td>-87.599502</td>\n",
       "      <td>THEFT</td>\n",
       "      <td>1</td>\n",
       "    </tr>\n",
       "    <tr>\n",
       "      <th>4</th>\n",
       "      <td>2021</td>\n",
       "      <td>8</td>\n",
       "      <td>41.791362</td>\n",
       "      <td>-87.726482</td>\n",
       "      <td>BATTERY</td>\n",
       "      <td>2</td>\n",
       "    </tr>\n",
       "    <tr>\n",
       "      <th>5</th>\n",
       "      <td>2020</td>\n",
       "      <td>25</td>\n",
       "      <td>41.915352</td>\n",
       "      <td>-87.725764</td>\n",
       "      <td>CRIMINAL DAMAGE</td>\n",
       "      <td>1</td>\n",
       "    </tr>\n",
       "    <tr>\n",
       "      <th>6</th>\n",
       "      <td>2020</td>\n",
       "      <td>12</td>\n",
       "      <td>41.854296</td>\n",
       "      <td>-87.658010</td>\n",
       "      <td>BATTERY</td>\n",
       "      <td>1</td>\n",
       "    </tr>\n",
       "    <tr>\n",
       "      <th>7</th>\n",
       "      <td>2021</td>\n",
       "      <td>12</td>\n",
       "      <td>41.896475</td>\n",
       "      <td>-87.690561</td>\n",
       "      <td>BURGLARY</td>\n",
       "      <td>1</td>\n",
       "    </tr>\n",
       "    <tr>\n",
       "      <th>8</th>\n",
       "      <td>2021</td>\n",
       "      <td>5</td>\n",
       "      <td>41.655413</td>\n",
       "      <td>-87.596775</td>\n",
       "      <td>THEFT</td>\n",
       "      <td>1</td>\n",
       "    </tr>\n",
       "    <tr>\n",
       "      <th>9</th>\n",
       "      <td>2021</td>\n",
       "      <td>12</td>\n",
       "      <td>41.899534</td>\n",
       "      <td>-87.678166</td>\n",
       "      <td>DECEPTIVE PRACTICE</td>\n",
       "      <td>1</td>\n",
       "    </tr>\n",
       "  </tbody>\n",
       "</table>\n",
       "</div>"
      ],
      "text/plain": [
       "   year  district   latitude  longitude        primary_type  crime_count\n",
       "0  2020        17  41.946319 -87.731580             BATTERY            1\n",
       "1  2020        10  41.837346 -87.698698             ASSAULT            1\n",
       "2  2020        18  41.898255 -87.631288             ROBBERY            1\n",
       "3  2020         3  41.783209 -87.599502               THEFT            1\n",
       "4  2021         8  41.791362 -87.726482             BATTERY            2\n",
       "5  2020        25  41.915352 -87.725764     CRIMINAL DAMAGE            1\n",
       "6  2020        12  41.854296 -87.658010             BATTERY            1\n",
       "7  2021        12  41.896475 -87.690561            BURGLARY            1\n",
       "8  2021         5  41.655413 -87.596775               THEFT            1\n",
       "9  2021        12  41.899534 -87.678166  DECEPTIVE PRACTICE            1"
      ]
     },
     "execution_count": 22,
     "metadata": {},
     "output_type": "execute_result"
    }
   ],
   "source": [
    "df.head(10)"
   ]
  },
  {
   "cell_type": "code",
   "execution_count": 6,
   "id": "7c017a4a",
   "metadata": {},
   "outputs": [
    {
     "data": {
      "text/plain": [
       "array([17, 10, 18,  3,  8, 25, 12,  5,  6, 22, 14, 20, 11, 19,  9, 15, 24,\n",
       "        7,  1, 16,  4,  2], dtype=int64)"
      ]
     },
     "execution_count": 6,
     "metadata": {},
     "output_type": "execute_result"
    }
   ],
   "source": [
    "df.district.unique()"
   ]
  },
  {
   "cell_type": "code",
   "execution_count": 7,
   "id": "4222bb6e",
   "metadata": {},
   "outputs": [
    {
     "data": {
      "text/plain": [
       "array(['BATTERY', 'ASSAULT', 'ROBBERY', 'THEFT', 'CRIMINAL DAMAGE',\n",
       "       'BURGLARY', 'DECEPTIVE PRACTICE', 'OTHER OFFENSE',\n",
       "       'PUBLIC PEACE VIOLATION', 'OFFENSE INVOLVING CHILDREN',\n",
       "       'MOTOR VEHICLE THEFT', 'NARCOTICS', 'CRIMINAL TRESPASS',\n",
       "       'WEAPONS VIOLATION', 'SEX OFFENSE', 'CRIMINAL SEXUAL ASSAULT',\n",
       "       'ARSON', 'CONCEALED CARRY LICENSE VIOLATION', 'HOMICIDE',\n",
       "       'INTERFERENCE WITH PUBLIC OFFICER', 'PROSTITUTION',\n",
       "       'LIQUOR LAW VIOLATION', 'STALKING'], dtype=object)"
      ]
     },
     "execution_count": 7,
     "metadata": {},
     "output_type": "execute_result"
    }
   ],
   "source": [
    "df.primary_type.unique()"
   ]
  },
  {
   "cell_type": "code",
   "execution_count": 8,
   "id": "fdb607b1",
   "metadata": {},
   "outputs": [
    {
     "data": {
      "text/plain": [
       "BATTERY                              180\n",
       "THEFT                                176\n",
       "CRIMINAL DAMAGE                      128\n",
       "ASSAULT                               93\n",
       "DECEPTIVE PRACTICE                    83\n",
       "OTHER OFFENSE                         76\n",
       "MOTOR VEHICLE THEFT                   58\n",
       "ROBBERY                               48\n",
       "WEAPONS VIOLATION                     42\n",
       "BURGLARY                              41\n",
       "NARCOTICS                             23\n",
       "CRIMINAL TRESPASS                     14\n",
       "OFFENSE INVOLVING CHILDREN            13\n",
       "SEX OFFENSE                            6\n",
       "CRIMINAL SEXUAL ASSAULT                6\n",
       "PUBLIC PEACE VIOLATION                 2\n",
       "CONCEALED CARRY LICENSE VIOLATION      2\n",
       "HOMICIDE                               2\n",
       "LIQUOR LAW VIOLATION                   2\n",
       "STALKING                               2\n",
       "ARSON                                  1\n",
       "INTERFERENCE WITH PUBLIC OFFICER       1\n",
       "PROSTITUTION                           1\n",
       "Name: primary_type, dtype: int64"
      ]
     },
     "execution_count": 8,
     "metadata": {},
     "output_type": "execute_result"
    }
   ],
   "source": [
    "df.primary_type.value_counts()"
   ]
  },
  {
   "cell_type": "code",
   "execution_count": 9,
   "id": "cee0467f",
   "metadata": {},
   "outputs": [
    {
     "data": {
      "text/plain": [
       "6     69\n",
       "4     65\n",
       "8     65\n",
       "25    65\n",
       "11    55\n",
       "5     54\n",
       "3     52\n",
       "9     49\n",
       "12    49\n",
       "19    47\n",
       "10    45\n",
       "22    44\n",
       "2     43\n",
       "7     42\n",
       "16    39\n",
       "15    37\n",
       "24    37\n",
       "18    36\n",
       "14    31\n",
       "17    28\n",
       "1     28\n",
       "20    20\n",
       "Name: district, dtype: int64"
      ]
     },
     "execution_count": 9,
     "metadata": {},
     "output_type": "execute_result"
    }
   ],
   "source": [
    "df.district.value_counts()"
   ]
  },
  {
   "cell_type": "code",
   "execution_count": 17,
   "id": "3ffd688b",
   "metadata": {},
   "outputs": [
    {
     "data": {
      "text/plain": [
       "[12, 15, 13, 15, 17]"
      ]
     },
     "execution_count": 17,
     "metadata": {},
     "output_type": "execute_result"
    }
   ],
   "source": [
    "df6b = df.loc[(df.district == 6) & (df.primary_type == \"BATTERY\")]\n",
    "df4b = df.loc[(df.district == 4) & (df.primary_type == \"BATTERY\")]\n",
    "df8b = df.loc[(df.district == 8) & (df.primary_type == \"BATTERY\")]\n",
    "df25b = df.loc[(df.district == 25) & (df.primary_type == \"BATTERY\")]\n",
    "df11b = df.loc[(df.district == 11) & (df.primary_type == \"BATTERY\")]\n",
    "battery = [len(df6b), len(df4b), len(df8b), len(df25b), len(df11b)]\n",
    "battery"
   ]
  },
  {
   "cell_type": "code",
   "execution_count": 18,
   "id": "25426596",
   "metadata": {},
   "outputs": [
    {
     "data": {
      "text/plain": [
       "[8, 9, 10, 7, 3]"
      ]
     },
     "execution_count": 18,
     "metadata": {},
     "output_type": "execute_result"
    }
   ],
   "source": [
    "df6t = df.loc[(df.district == 6) & (df.primary_type == \"THEFT\")]\n",
    "df4t = df.loc[(df.district == 4) & (df.primary_type == \"THEFT\")]\n",
    "df8t = df.loc[(df.district == 8) & (df.primary_type == \"THEFT\")]\n",
    "df25t = df.loc[(df.district == 25) & (df.primary_type == \"THEFT\")]\n",
    "df11t = df.loc[(df.district == 11) & (df.primary_type == \"THEFT\")]\n",
    "theft = [len(df6t), len(df4t), len(df8t), len(df25t), len(df11t)]\n",
    "theft"
   ]
  },
  {
   "cell_type": "code",
   "execution_count": 19,
   "id": "d1cc7303",
   "metadata": {},
   "outputs": [
    {
     "data": {
      "text/plain": [
       "[10, 11, 6, 10, 5]"
      ]
     },
     "execution_count": 19,
     "metadata": {},
     "output_type": "execute_result"
    }
   ],
   "source": [
    "df6c = df.loc[(df.district == 6) & (df.primary_type == \"CRIMINAL DAMAGE\")]\n",
    "df4c = df.loc[(df.district == 4) & (df.primary_type == \"CRIMINAL DAMAGE\")]\n",
    "df8c = df.loc[(df.district == 8) & (df.primary_type == \"CRIMINAL DAMAGE\")]\n",
    "df25c = df.loc[(df.district == 25) & (df.primary_type == \"CRIMINAL DAMAGE\")]\n",
    "df11c = df.loc[(df.district == 11) & (df.primary_type == \"CRIMINAL DAMAGE\")]\n",
    "cd = [len(df6c), len(df4c), len(df8c), len(df25c), len(df11c)]\n",
    "cd"
   ]
  },
  {
   "cell_type": "code",
   "execution_count": 20,
   "id": "9bd82c79",
   "metadata": {
    "scrolled": true
   },
   "outputs": [
    {
     "data": {
      "text/plain": [
       "[8, 4, 10, 2, 3]"
      ]
     },
     "execution_count": 20,
     "metadata": {},
     "output_type": "execute_result"
    }
   ],
   "source": [
    "df6a = df.loc[(df.district == 6) & (df.primary_type == \"ASSAULT\")]\n",
    "df4a = df.loc[(df.district == 4) & (df.primary_type == \"ASSAULT\")]\n",
    "df8a = df.loc[(df.district == 8) & (df.primary_type == \"ASSAULT\")]\n",
    "df25a = df.loc[(df.district == 25) & (df.primary_type == \"ASSAULT\")]\n",
    "df11a = df.loc[(df.district == 11) & (df.primary_type == \"ASSAULT\")]\n",
    "assault = [len(df6a), len(df4a), len(df8a), len(df25a), len(df11a)]\n",
    "assault"
   ]
  },
  {
   "cell_type": "code",
   "execution_count": 21,
   "id": "86565c03",
   "metadata": {},
   "outputs": [
    {
     "data": {
      "text/plain": [
       "[5, 7, 7, 3, 3]"
      ]
     },
     "execution_count": 21,
     "metadata": {},
     "output_type": "execute_result"
    }
   ],
   "source": [
    "df6d = df.loc[(df.district == 6) & (df.primary_type == \"DECEPTIVE PRACTICE\")]\n",
    "df4d = df.loc[(df.district == 4) & (df.primary_type == \"DECEPTIVE PRACTICE\")]\n",
    "df8d = df.loc[(df.district == 8) & (df.primary_type == \"DECEPTIVE PRACTICE\")]\n",
    "df25d = df.loc[(df.district == 25) & (df.primary_type == \"DECEPTIVE PRACTICE\")]\n",
    "df11d = df.loc[(df.district == 11) & (df.primary_type == \"DECEPTIVE PRACTICE\")]\n",
    "dec = [len(df6d), len(df4d), len(df8d), len(df25d), len(df11d)]\n",
    "dec"
   ]
  },
  {
   "cell_type": "code",
   "execution_count": 25,
   "id": "8facf4b3",
   "metadata": {},
   "outputs": [
    {
     "name": "stdout",
     "output_type": "stream",
     "text": [
      "<class 'pandas.core.frame.DataFrame'>\n",
      "Int64Index: 803 entries, 0 to 999\n",
      "Data columns (total 6 columns):\n",
      " #   Column        Non-Null Count  Dtype  \n",
      "---  ------        --------------  -----  \n",
      " 0   year          803 non-null    int64  \n",
      " 1   district      803 non-null    int64  \n",
      " 2   latitude      803 non-null    float64\n",
      " 3   longitude     803 non-null    float64\n",
      " 4   primary_type  803 non-null    object \n",
      " 5   crime_count   803 non-null    int64  \n",
      "dtypes: float64(2), int64(3), object(1)\n",
      "memory usage: 43.9+ KB\n"
     ]
    }
   ],
   "source": [
    "df_no22 = df.loc[(df.year == 2020) | (df.year == 2021)]\n",
    "df20 = df.loc[(df.year == 2020)]\n",
    "df21 = df.loc[(df.year == 2021)]\n",
    "df_no22.info()"
   ]
  },
  {
   "cell_type": "code",
   "execution_count": 32,
   "id": "f5d425c7",
   "metadata": {},
   "outputs": [
    {
     "data": {
      "text/plain": [
       "['BATTERY',\n",
       " 'THEFT',\n",
       " 'CRIMINAL DAMAGE',\n",
       " 'DECEPTIVE PRACTICE',\n",
       " 'ASSAULT',\n",
       " 'OTHER OFFENSE',\n",
       " 'MOTOR VEHICLE THEFT',\n",
       " 'ROBBERY',\n",
       " 'WEAPONS VIOLATION',\n",
       " 'BURGLARY',\n",
       " 'NARCOTICS',\n",
       " 'OFFENSE INVOLVING CHILDREN',\n",
       " 'CRIMINAL TRESPASS',\n",
       " 'SEX OFFENSE',\n",
       " 'CRIMINAL SEXUAL ASSAULT',\n",
       " 'HOMICIDE',\n",
       " 'LIQUOR LAW VIOLATION',\n",
       " 'STALKING',\n",
       " 'CONCEALED CARRY LICENSE VIOLATION',\n",
       " 'PROSTITUTION',\n",
       " 'ARSON',\n",
       " 'PUBLIC PEACE VIOLATION']"
      ]
     },
     "execution_count": 32,
     "metadata": {},
     "output_type": "execute_result"
    }
   ],
   "source": [
    "crimes = df_no22.primary_type.value_counts().index.tolist()\n",
    "crimes"
   ]
  },
  {
   "cell_type": "code",
   "execution_count": 51,
   "id": "d0474a6c",
   "metadata": {},
   "outputs": [
    {
     "data": {
      "text/html": [
       "<div>\n",
       "<style scoped>\n",
       "    .dataframe tbody tr th:only-of-type {\n",
       "        vertical-align: middle;\n",
       "    }\n",
       "\n",
       "    .dataframe tbody tr th {\n",
       "        vertical-align: top;\n",
       "    }\n",
       "\n",
       "    .dataframe thead th {\n",
       "        text-align: right;\n",
       "    }\n",
       "</style>\n",
       "<table border=\"1\" class=\"dataframe\">\n",
       "  <thead>\n",
       "    <tr style=\"text-align: right;\">\n",
       "      <th></th>\n",
       "      <th>crime</th>\n",
       "    </tr>\n",
       "  </thead>\n",
       "  <tbody>\n",
       "    <tr>\n",
       "      <th>0</th>\n",
       "      <td>BATTERY</td>\n",
       "    </tr>\n",
       "    <tr>\n",
       "      <th>1</th>\n",
       "      <td>THEFT</td>\n",
       "    </tr>\n",
       "    <tr>\n",
       "      <th>2</th>\n",
       "      <td>CRIMINAL DAMAGE</td>\n",
       "    </tr>\n",
       "    <tr>\n",
       "      <th>3</th>\n",
       "      <td>DECEPTIVE PRACTICE</td>\n",
       "    </tr>\n",
       "    <tr>\n",
       "      <th>4</th>\n",
       "      <td>ASSAULT</td>\n",
       "    </tr>\n",
       "    <tr>\n",
       "      <th>5</th>\n",
       "      <td>OTHER OFFENSE</td>\n",
       "    </tr>\n",
       "    <tr>\n",
       "      <th>6</th>\n",
       "      <td>MOTOR VEHICLE THEFT</td>\n",
       "    </tr>\n",
       "    <tr>\n",
       "      <th>7</th>\n",
       "      <td>ROBBERY</td>\n",
       "    </tr>\n",
       "    <tr>\n",
       "      <th>8</th>\n",
       "      <td>WEAPONS VIOLATION</td>\n",
       "    </tr>\n",
       "    <tr>\n",
       "      <th>9</th>\n",
       "      <td>BURGLARY</td>\n",
       "    </tr>\n",
       "    <tr>\n",
       "      <th>10</th>\n",
       "      <td>NARCOTICS</td>\n",
       "    </tr>\n",
       "    <tr>\n",
       "      <th>11</th>\n",
       "      <td>OFFENSE INVOLVING CHILDREN</td>\n",
       "    </tr>\n",
       "    <tr>\n",
       "      <th>12</th>\n",
       "      <td>CRIMINAL TRESPASS</td>\n",
       "    </tr>\n",
       "    <tr>\n",
       "      <th>13</th>\n",
       "      <td>SEX OFFENSE</td>\n",
       "    </tr>\n",
       "    <tr>\n",
       "      <th>14</th>\n",
       "      <td>CRIMINAL SEXUAL ASSAULT</td>\n",
       "    </tr>\n",
       "    <tr>\n",
       "      <th>15</th>\n",
       "      <td>HOMICIDE</td>\n",
       "    </tr>\n",
       "    <tr>\n",
       "      <th>16</th>\n",
       "      <td>LIQUOR LAW VIOLATION</td>\n",
       "    </tr>\n",
       "    <tr>\n",
       "      <th>17</th>\n",
       "      <td>STALKING</td>\n",
       "    </tr>\n",
       "    <tr>\n",
       "      <th>18</th>\n",
       "      <td>CONCEALED CARRY LICENSE VIOLATION</td>\n",
       "    </tr>\n",
       "    <tr>\n",
       "      <th>19</th>\n",
       "      <td>PROSTITUTION</td>\n",
       "    </tr>\n",
       "    <tr>\n",
       "      <th>20</th>\n",
       "      <td>ARSON</td>\n",
       "    </tr>\n",
       "    <tr>\n",
       "      <th>21</th>\n",
       "      <td>PUBLIC PEACE VIOLATION</td>\n",
       "    </tr>\n",
       "  </tbody>\n",
       "</table>\n",
       "</div>"
      ],
      "text/plain": [
       "                                crime\n",
       "0                             BATTERY\n",
       "1                               THEFT\n",
       "2                     CRIMINAL DAMAGE\n",
       "3                  DECEPTIVE PRACTICE\n",
       "4                             ASSAULT\n",
       "5                       OTHER OFFENSE\n",
       "6                 MOTOR VEHICLE THEFT\n",
       "7                             ROBBERY\n",
       "8                   WEAPONS VIOLATION\n",
       "9                            BURGLARY\n",
       "10                          NARCOTICS\n",
       "11         OFFENSE INVOLVING CHILDREN\n",
       "12                  CRIMINAL TRESPASS\n",
       "13                        SEX OFFENSE\n",
       "14            CRIMINAL SEXUAL ASSAULT\n",
       "15                           HOMICIDE\n",
       "16               LIQUOR LAW VIOLATION\n",
       "17                           STALKING\n",
       "18  CONCEALED CARRY LICENSE VIOLATION\n",
       "19                       PROSTITUTION\n",
       "20                              ARSON\n",
       "21             PUBLIC PEACE VIOLATION"
      ]
     },
     "execution_count": 51,
     "metadata": {},
     "output_type": "execute_result"
    }
   ],
   "source": [
    "df_x=pd.DataFrame({'crime':crimes})\n",
    "df_x"
   ]
  },
  {
   "cell_type": "code",
   "execution_count": 52,
   "id": "09057e21",
   "metadata": {},
   "outputs": [
    {
     "data": {
      "text/plain": [
       "[80, 58, 49, 39, 27, 28, 22, 22, 18, 15, 13, 6, 6, 2, 1, 0, 1, 1, 1, 1, 1, 0]"
      ]
     },
     "execution_count": 52,
     "metadata": {},
     "output_type": "execute_result"
    }
   ],
   "source": [
    "crime2020 = []\n",
    "for crime in crimes:\n",
    "    crime2020.append(len(df20.loc[df20.primary_type == crime]))\n",
    "    \n",
    "crime2020"
   ]
  },
  {
   "cell_type": "code",
   "execution_count": 53,
   "id": "c1fd8c67",
   "metadata": {},
   "outputs": [],
   "source": [
    "df_x[\"c2020\"] = crime2020"
   ]
  },
  {
   "cell_type": "code",
   "execution_count": 54,
   "id": "79df254f",
   "metadata": {},
   "outputs": [
    {
     "data": {
      "text/html": [
       "<div>\n",
       "<style scoped>\n",
       "    .dataframe tbody tr th:only-of-type {\n",
       "        vertical-align: middle;\n",
       "    }\n",
       "\n",
       "    .dataframe tbody tr th {\n",
       "        vertical-align: top;\n",
       "    }\n",
       "\n",
       "    .dataframe thead th {\n",
       "        text-align: right;\n",
       "    }\n",
       "</style>\n",
       "<table border=\"1\" class=\"dataframe\">\n",
       "  <thead>\n",
       "    <tr style=\"text-align: right;\">\n",
       "      <th></th>\n",
       "      <th>crime</th>\n",
       "      <th>c2020</th>\n",
       "    </tr>\n",
       "  </thead>\n",
       "  <tbody>\n",
       "    <tr>\n",
       "      <th>0</th>\n",
       "      <td>BATTERY</td>\n",
       "      <td>80</td>\n",
       "    </tr>\n",
       "    <tr>\n",
       "      <th>1</th>\n",
       "      <td>THEFT</td>\n",
       "      <td>58</td>\n",
       "    </tr>\n",
       "    <tr>\n",
       "      <th>2</th>\n",
       "      <td>CRIMINAL DAMAGE</td>\n",
       "      <td>49</td>\n",
       "    </tr>\n",
       "    <tr>\n",
       "      <th>3</th>\n",
       "      <td>DECEPTIVE PRACTICE</td>\n",
       "      <td>39</td>\n",
       "    </tr>\n",
       "    <tr>\n",
       "      <th>4</th>\n",
       "      <td>ASSAULT</td>\n",
       "      <td>27</td>\n",
       "    </tr>\n",
       "    <tr>\n",
       "      <th>5</th>\n",
       "      <td>OTHER OFFENSE</td>\n",
       "      <td>28</td>\n",
       "    </tr>\n",
       "    <tr>\n",
       "      <th>6</th>\n",
       "      <td>MOTOR VEHICLE THEFT</td>\n",
       "      <td>22</td>\n",
       "    </tr>\n",
       "    <tr>\n",
       "      <th>7</th>\n",
       "      <td>ROBBERY</td>\n",
       "      <td>22</td>\n",
       "    </tr>\n",
       "    <tr>\n",
       "      <th>8</th>\n",
       "      <td>WEAPONS VIOLATION</td>\n",
       "      <td>18</td>\n",
       "    </tr>\n",
       "    <tr>\n",
       "      <th>9</th>\n",
       "      <td>BURGLARY</td>\n",
       "      <td>15</td>\n",
       "    </tr>\n",
       "    <tr>\n",
       "      <th>10</th>\n",
       "      <td>NARCOTICS</td>\n",
       "      <td>13</td>\n",
       "    </tr>\n",
       "    <tr>\n",
       "      <th>11</th>\n",
       "      <td>OFFENSE INVOLVING CHILDREN</td>\n",
       "      <td>6</td>\n",
       "    </tr>\n",
       "    <tr>\n",
       "      <th>12</th>\n",
       "      <td>CRIMINAL TRESPASS</td>\n",
       "      <td>6</td>\n",
       "    </tr>\n",
       "    <tr>\n",
       "      <th>13</th>\n",
       "      <td>SEX OFFENSE</td>\n",
       "      <td>2</td>\n",
       "    </tr>\n",
       "    <tr>\n",
       "      <th>14</th>\n",
       "      <td>CRIMINAL SEXUAL ASSAULT</td>\n",
       "      <td>1</td>\n",
       "    </tr>\n",
       "    <tr>\n",
       "      <th>15</th>\n",
       "      <td>HOMICIDE</td>\n",
       "      <td>0</td>\n",
       "    </tr>\n",
       "    <tr>\n",
       "      <th>16</th>\n",
       "      <td>LIQUOR LAW VIOLATION</td>\n",
       "      <td>1</td>\n",
       "    </tr>\n",
       "    <tr>\n",
       "      <th>17</th>\n",
       "      <td>STALKING</td>\n",
       "      <td>1</td>\n",
       "    </tr>\n",
       "    <tr>\n",
       "      <th>18</th>\n",
       "      <td>CONCEALED CARRY LICENSE VIOLATION</td>\n",
       "      <td>1</td>\n",
       "    </tr>\n",
       "    <tr>\n",
       "      <th>19</th>\n",
       "      <td>PROSTITUTION</td>\n",
       "      <td>1</td>\n",
       "    </tr>\n",
       "    <tr>\n",
       "      <th>20</th>\n",
       "      <td>ARSON</td>\n",
       "      <td>1</td>\n",
       "    </tr>\n",
       "    <tr>\n",
       "      <th>21</th>\n",
       "      <td>PUBLIC PEACE VIOLATION</td>\n",
       "      <td>0</td>\n",
       "    </tr>\n",
       "  </tbody>\n",
       "</table>\n",
       "</div>"
      ],
      "text/plain": [
       "                                crime  c2020\n",
       "0                             BATTERY     80\n",
       "1                               THEFT     58\n",
       "2                     CRIMINAL DAMAGE     49\n",
       "3                  DECEPTIVE PRACTICE     39\n",
       "4                             ASSAULT     27\n",
       "5                       OTHER OFFENSE     28\n",
       "6                 MOTOR VEHICLE THEFT     22\n",
       "7                             ROBBERY     22\n",
       "8                   WEAPONS VIOLATION     18\n",
       "9                            BURGLARY     15\n",
       "10                          NARCOTICS     13\n",
       "11         OFFENSE INVOLVING CHILDREN      6\n",
       "12                  CRIMINAL TRESPASS      6\n",
       "13                        SEX OFFENSE      2\n",
       "14            CRIMINAL SEXUAL ASSAULT      1\n",
       "15                           HOMICIDE      0\n",
       "16               LIQUOR LAW VIOLATION      1\n",
       "17                           STALKING      1\n",
       "18  CONCEALED CARRY LICENSE VIOLATION      1\n",
       "19                       PROSTITUTION      1\n",
       "20                              ARSON      1\n",
       "21             PUBLIC PEACE VIOLATION      0"
      ]
     },
     "execution_count": 54,
     "metadata": {},
     "output_type": "execute_result"
    }
   ],
   "source": [
    "df_x"
   ]
  },
  {
   "cell_type": "code",
   "execution_count": 55,
   "id": "22c0ae98",
   "metadata": {},
   "outputs": [
    {
     "data": {
      "text/plain": [
       "[66, 87, 54, 35, 43, 26, 19, 18, 20, 17, 5, 4, 4, 4, 4, 2, 1, 1, 1, 0, 0, 1]"
      ]
     },
     "execution_count": 55,
     "metadata": {},
     "output_type": "execute_result"
    }
   ],
   "source": [
    "crime2021 = []\n",
    "for crime in crimes:\n",
    "    crime2021.append(len(df21.loc[df21.primary_type == crime]))\n",
    "    \n",
    "crime2021"
   ]
  },
  {
   "cell_type": "code",
   "execution_count": 56,
   "id": "f9b1ea2b",
   "metadata": {},
   "outputs": [
    {
     "data": {
      "text/html": [
       "<div>\n",
       "<style scoped>\n",
       "    .dataframe tbody tr th:only-of-type {\n",
       "        vertical-align: middle;\n",
       "    }\n",
       "\n",
       "    .dataframe tbody tr th {\n",
       "        vertical-align: top;\n",
       "    }\n",
       "\n",
       "    .dataframe thead th {\n",
       "        text-align: right;\n",
       "    }\n",
       "</style>\n",
       "<table border=\"1\" class=\"dataframe\">\n",
       "  <thead>\n",
       "    <tr style=\"text-align: right;\">\n",
       "      <th></th>\n",
       "      <th>crime</th>\n",
       "      <th>c2020</th>\n",
       "      <th>c2021</th>\n",
       "    </tr>\n",
       "  </thead>\n",
       "  <tbody>\n",
       "    <tr>\n",
       "      <th>0</th>\n",
       "      <td>BATTERY</td>\n",
       "      <td>80</td>\n",
       "      <td>66</td>\n",
       "    </tr>\n",
       "    <tr>\n",
       "      <th>1</th>\n",
       "      <td>THEFT</td>\n",
       "      <td>58</td>\n",
       "      <td>87</td>\n",
       "    </tr>\n",
       "    <tr>\n",
       "      <th>2</th>\n",
       "      <td>CRIMINAL DAMAGE</td>\n",
       "      <td>49</td>\n",
       "      <td>54</td>\n",
       "    </tr>\n",
       "    <tr>\n",
       "      <th>3</th>\n",
       "      <td>DECEPTIVE PRACTICE</td>\n",
       "      <td>39</td>\n",
       "      <td>35</td>\n",
       "    </tr>\n",
       "    <tr>\n",
       "      <th>4</th>\n",
       "      <td>ASSAULT</td>\n",
       "      <td>27</td>\n",
       "      <td>43</td>\n",
       "    </tr>\n",
       "    <tr>\n",
       "      <th>5</th>\n",
       "      <td>OTHER OFFENSE</td>\n",
       "      <td>28</td>\n",
       "      <td>26</td>\n",
       "    </tr>\n",
       "    <tr>\n",
       "      <th>6</th>\n",
       "      <td>MOTOR VEHICLE THEFT</td>\n",
       "      <td>22</td>\n",
       "      <td>19</td>\n",
       "    </tr>\n",
       "    <tr>\n",
       "      <th>7</th>\n",
       "      <td>ROBBERY</td>\n",
       "      <td>22</td>\n",
       "      <td>18</td>\n",
       "    </tr>\n",
       "    <tr>\n",
       "      <th>8</th>\n",
       "      <td>WEAPONS VIOLATION</td>\n",
       "      <td>18</td>\n",
       "      <td>20</td>\n",
       "    </tr>\n",
       "    <tr>\n",
       "      <th>9</th>\n",
       "      <td>BURGLARY</td>\n",
       "      <td>15</td>\n",
       "      <td>17</td>\n",
       "    </tr>\n",
       "    <tr>\n",
       "      <th>10</th>\n",
       "      <td>NARCOTICS</td>\n",
       "      <td>13</td>\n",
       "      <td>5</td>\n",
       "    </tr>\n",
       "    <tr>\n",
       "      <th>11</th>\n",
       "      <td>OFFENSE INVOLVING CHILDREN</td>\n",
       "      <td>6</td>\n",
       "      <td>4</td>\n",
       "    </tr>\n",
       "    <tr>\n",
       "      <th>12</th>\n",
       "      <td>CRIMINAL TRESPASS</td>\n",
       "      <td>6</td>\n",
       "      <td>4</td>\n",
       "    </tr>\n",
       "    <tr>\n",
       "      <th>13</th>\n",
       "      <td>SEX OFFENSE</td>\n",
       "      <td>2</td>\n",
       "      <td>4</td>\n",
       "    </tr>\n",
       "    <tr>\n",
       "      <th>14</th>\n",
       "      <td>CRIMINAL SEXUAL ASSAULT</td>\n",
       "      <td>1</td>\n",
       "      <td>4</td>\n",
       "    </tr>\n",
       "    <tr>\n",
       "      <th>15</th>\n",
       "      <td>HOMICIDE</td>\n",
       "      <td>0</td>\n",
       "      <td>2</td>\n",
       "    </tr>\n",
       "    <tr>\n",
       "      <th>16</th>\n",
       "      <td>LIQUOR LAW VIOLATION</td>\n",
       "      <td>1</td>\n",
       "      <td>1</td>\n",
       "    </tr>\n",
       "    <tr>\n",
       "      <th>17</th>\n",
       "      <td>STALKING</td>\n",
       "      <td>1</td>\n",
       "      <td>1</td>\n",
       "    </tr>\n",
       "    <tr>\n",
       "      <th>18</th>\n",
       "      <td>CONCEALED CARRY LICENSE VIOLATION</td>\n",
       "      <td>1</td>\n",
       "      <td>1</td>\n",
       "    </tr>\n",
       "    <tr>\n",
       "      <th>19</th>\n",
       "      <td>PROSTITUTION</td>\n",
       "      <td>1</td>\n",
       "      <td>0</td>\n",
       "    </tr>\n",
       "    <tr>\n",
       "      <th>20</th>\n",
       "      <td>ARSON</td>\n",
       "      <td>1</td>\n",
       "      <td>0</td>\n",
       "    </tr>\n",
       "    <tr>\n",
       "      <th>21</th>\n",
       "      <td>PUBLIC PEACE VIOLATION</td>\n",
       "      <td>0</td>\n",
       "      <td>1</td>\n",
       "    </tr>\n",
       "  </tbody>\n",
       "</table>\n",
       "</div>"
      ],
      "text/plain": [
       "                                crime  c2020  c2021\n",
       "0                             BATTERY     80     66\n",
       "1                               THEFT     58     87\n",
       "2                     CRIMINAL DAMAGE     49     54\n",
       "3                  DECEPTIVE PRACTICE     39     35\n",
       "4                             ASSAULT     27     43\n",
       "5                       OTHER OFFENSE     28     26\n",
       "6                 MOTOR VEHICLE THEFT     22     19\n",
       "7                             ROBBERY     22     18\n",
       "8                   WEAPONS VIOLATION     18     20\n",
       "9                            BURGLARY     15     17\n",
       "10                          NARCOTICS     13      5\n",
       "11         OFFENSE INVOLVING CHILDREN      6      4\n",
       "12                  CRIMINAL TRESPASS      6      4\n",
       "13                        SEX OFFENSE      2      4\n",
       "14            CRIMINAL SEXUAL ASSAULT      1      4\n",
       "15                           HOMICIDE      0      2\n",
       "16               LIQUOR LAW VIOLATION      1      1\n",
       "17                           STALKING      1      1\n",
       "18  CONCEALED CARRY LICENSE VIOLATION      1      1\n",
       "19                       PROSTITUTION      1      0\n",
       "20                              ARSON      1      0\n",
       "21             PUBLIC PEACE VIOLATION      0      1"
      ]
     },
     "execution_count": 56,
     "metadata": {},
     "output_type": "execute_result"
    }
   ],
   "source": [
    "df_x[\"c2021\"] = crime2021\n",
    "df_x"
   ]
  },
  {
   "cell_type": "code",
   "execution_count": 57,
   "id": "5dca3daa",
   "metadata": {},
   "outputs": [],
   "source": [
    "df_x.to_csv('crimetype.csv',index=False)"
   ]
  },
  {
   "cell_type": "code",
   "execution_count": null,
   "id": "3840f563",
   "metadata": {},
   "outputs": [],
   "source": []
  }
 ],
 "metadata": {
  "kernelspec": {
   "display_name": "Python 3 (ipykernel)",
   "language": "python",
   "name": "python3"
  },
  "language_info": {
   "codemirror_mode": {
    "name": "ipython",
    "version": 3
   },
   "file_extension": ".py",
   "mimetype": "text/x-python",
   "name": "python",
   "nbconvert_exporter": "python",
   "pygments_lexer": "ipython3",
   "version": "3.9.12"
  }
 },
 "nbformat": 4,
 "nbformat_minor": 5
}
